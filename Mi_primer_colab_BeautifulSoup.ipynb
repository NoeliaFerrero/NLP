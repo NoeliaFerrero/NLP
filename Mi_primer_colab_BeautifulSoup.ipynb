{
  "nbformat": 4,
  "nbformat_minor": 0,
  "metadata": {
    "colab": {
      "provenance": [],
      "include_colab_link": true
    },
    "kernelspec": {
      "name": "python3",
      "display_name": "Python 3"
    },
    "language_info": {
      "name": "python"
    }
  },
  "cells": [
    {
      "cell_type": "markdown",
      "metadata": {
        "id": "view-in-github",
        "colab_type": "text"
      },
      "source": [
        "<a href=\"https://colab.research.google.com/github/NoeliaFerrero/NLP/blob/main/Mi_primer_colab_BeautifulSoup.ipynb\" target=\"_parent\"><img src=\"https://colab.research.google.com/assets/colab-badge.svg\" alt=\"Open In Colab\"/></a>"
      ]
    },
    {
      "cell_type": "code",
      "execution_count": null,
      "metadata": {
        "colab": {
          "base_uri": "https://localhost:8080/"
        },
        "id": "kG3-APUivc0G",
        "outputId": "090c609f-f761-4756-dba0-c77be42c85da"
      },
      "outputs": [
        {
          "output_type": "stream",
          "name": "stdout",
          "text": [
            "/content\n"
          ]
        }
      ],
      "source": [
        "!pwd"
      ]
    },
    {
      "cell_type": "code",
      "source": [
        "!ls -a"
      ],
      "metadata": {
        "colab": {
          "base_uri": "https://localhost:8080/"
        },
        "id": "MXImEmALvyyD",
        "outputId": "4a73b933-541b-4b41-964a-02dbb0dca89e"
      },
      "execution_count": null,
      "outputs": [
        {
          "output_type": "stream",
          "name": "stdout",
          "text": [
            ".  ..  .config\tsample_data\n"
          ]
        }
      ]
    },
    {
      "cell_type": "code",
      "source": [
        "!cat sample_data/README.md"
      ],
      "metadata": {
        "id": "Moh1CY-lv22S"
      },
      "execution_count": null,
      "outputs": []
    },
    {
      "cell_type": "code",
      "source": [
        "import requests\n",
        "from bs4 import BeautifulSoup\n",
        "\n",
        "def scrape_url(url : str):\n",
        "  response = requests.get(url)\n",
        "  soup = BeautifulSoup(response.text, \"html.parser\")\n",
        "  paragraphs = soup.find_all('p')\n",
        "  for p in paragraphs:\n",
        "    print(p.text)\n",
        "\n",
        "scrape_url(\"https://www.goodreads.com/about/us\")"
      ],
      "metadata": {
        "colab": {
          "base_uri": "https://localhost:8080/"
        },
        "id": "FBuIAXqWv2r2",
        "outputId": "ae035e18-6ab5-42e3-82ec-f79444eaa3df"
      },
      "execution_count": null,
      "outputs": [
        {
          "output_type": "stream",
          "name": "stdout",
          "text": [
            "\n",
            "Goodreads is the world’s largest site for readers and book\n",
            "recommendations. Our mission is to help people find and share books they\n",
            "love. Goodreads launched in January 2007.\n",
            "\n",
            "\n",
            "When I was in second grade, I discovered the Hardy Boys series.\n",
            "Ever since, I've loved to read — both for fun and to improve my mind.\n",
            "And I'm always looking for the next great book.\n",
            "\n",
            "\n",
            "One afternoon while I was scanning a friend's bookshelf for ideas, it\n",
            "struck me: when I want to know what books to read, I'd rather turn to a\n",
            "friend than any random person or bestseller list.\n",
            "\n",
            "\n",
            "So I decided to build a website – a place where I could see my\n",
            "friends' bookshelves and learn about what they thought of all their books.\n",
            "Elizabeth, my co-founder (and now my wife) wrote the site copy and I wrote\n",
            "the code. We started in my living room, motivated by the belief that there\n",
            "was a better way to discover and discuss good books, and that we could\n",
            "build it.\n",
            "\n",
            "\n",
            "Goodreads is that site. It is a place where you can see what your friends\n",
            "are reading and vice versa. You can create \"bookshelves\" to organize what\n",
            "you've read (or want to read). You can comment on each other's reviews.\n",
            "You can find your next favorite book. And on this journey with your\n",
            "friends you can explore new territory, gather information, and expand\n",
            "your mind. \n",
            "\n",
            "\n",
            "Knowledge is power, and power is best shared among readers. \n",
            "\n",
            "Welcome back. Just a moment while we sign you in to your Goodreads account.\n"
          ]
        }
      ]
    },
    {
      "cell_type": "code",
      "source": [
        "import requests\n",
        "from bs4 import BeautifulSoup\n",
        "\n",
        "def scrape_url(url : str):\n",
        "  response = requests.get(url)\n",
        "  soup = BeautifulSoup(response.text, \"html.parser\")\n",
        "  links = soup.find_all('a', class_=\"bookTitle\")\n",
        "  base_url = \"https://www.goodreads.com\"\n",
        "  for link in links:\n",
        "    line = f\"{link.text} : {base_url}{link['href']}\\n\"\n",
        "    with open(\"links.txt\", \"a\") as f:\n",
        "      f.write(line)\n",
        "\n",
        "scrape_url(\"https://www.goodreads.com/shelf/show/recommended\")"
      ],
      "metadata": {
        "id": "pQ2SU8bJxqOb"
      },
      "execution_count": null,
      "outputs": []
    }
  ]
}